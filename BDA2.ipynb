{
 "cells": [
  {
   "cell_type": "code",
   "execution_count": null,
   "metadata": {
    "id": "g3hGro9k2RN4"
   },
   "outputs": [],
   "source": [
    "!wget https://archive.apache.org/dist/spark/spark-3.0.0/spark-3.0.0-bin-hadoop2.7.tgz\n",
    "!tar -xvzf spark-3.0.0-bin-hadoop2.7.tgz\n",
    "!pip install findspark"
   ]
  },
  {
   "cell_type": "code",
   "execution_count": null,
   "metadata": {
    "id": "ShMxP6FvD-A6"
   },
   "outputs": [],
   "source": [
    "import os\n",
    "os.environ[\"SPARK_HOME\"] = \"/content/spark-3.0.0-bin-hadoop2.7\"\n",
    "import findspark\n",
    "findspark.init()"
   ]
  },
  {
   "cell_type": "code",
   "execution_count": null,
   "metadata": {
    "colab": {
     "base_uri": "https://localhost:8080/"
    },
    "id": "QfMATGw8EDjb",
    "outputId": "fa7dcb5d-4e44-4e3e-93cf-cdfb40e3046d"
   },
   "outputs": [
    {
     "name": "stdout",
     "output_type": "stream",
     "text": [
      "PySpark 3.0 Setup on Google Colab\n"
     ]
    }
   ],
   "source": [
    "from pyspark.sql import SparkSession\n",
    "spark = SparkSession.builder.appName(\"PySpark 3.0 Setup on Google Colab\").getOrCreate()\n",
    "print(spark.sparkContext.appName)"
   ]
  },
  {
   "cell_type": "code",
   "execution_count": null,
   "metadata": {
    "id": "ifAMjhmPEF0P"
   },
   "outputs": [],
   "source": [
    "# Read The dataset\n",
    "df = spark.read.csv('/content/census-Worksheet.csv',header=True,inferSchema=True)"
   ]
  },
  {
   "cell_type": "code",
   "execution_count": null,
   "metadata": {
    "id": "dddnWOXAEbKi"
   },
   "outputs": [],
   "source": [
    "#Drop null vals\n",
    "df  = df.dropna()"
   ]
  },
  {
   "cell_type": "code",
   "execution_count": null,
   "metadata": {
    "colab": {
     "base_uri": "https://localhost:8080/"
    },
    "id": "NtvWq3FgEc0i",
    "outputId": "e2248d6b-aa3c-480e-9a7c-ce54370024f1"
   },
   "outputs": [
    {
     "name": "stdout",
     "output_type": "stream",
     "text": [
      "+---+-----------------+---------------+-------------+--------------------+------------------+--------------+-------------------+-------+------------+------------+--------------+--------------+------+\n",
      "|age|        workclass|education_level|education-num|      marital-status|        occupation|  relationship|               race|    sex|capital-gain|capital-loss|hours-per-week|native-country|income|\n",
      "+---+-----------------+---------------+-------------+--------------------+------------------+--------------+-------------------+-------+------------+------------+--------------+--------------+------+\n",
      "| 39|        State-gov|      Bachelors|           13|       Never-married|      Adm-clerical| Not-in-family|              White|   Male|        2174|           0|            40| United-States| <=50K|\n",
      "| 50| Self-emp-not-inc|      Bachelors|           13|  Married-civ-spouse|   Exec-managerial|       Husband|              White|   Male|           0|           0|            13| United-States| <=50K|\n",
      "| 38|          Private|        HS-grad|            9|            Divorced| Handlers-cleaners| Not-in-family|              White|   Male|           0|           0|            40| United-States| <=50K|\n",
      "| 53|          Private|           11th|            7|  Married-civ-spouse| Handlers-cleaners|       Husband|              Black|   Male|           0|           0|            40| United-States| <=50K|\n",
      "| 28|          Private|      Bachelors|           13|  Married-civ-spouse|    Prof-specialty|          Wife|              Black| Female|           0|           0|            40|          Cuba| <=50K|\n",
      "| 37|          Private|        Masters|           14|  Married-civ-spouse|   Exec-managerial|          Wife|              White| Female|           0|           0|            40| United-States| <=50K|\n",
      "| 49|          Private|            9th|            5| Married-spouse-a...|     Other-service| Not-in-family|              Black| Female|           0|           0|            16|       Jamaica| <=50K|\n",
      "| 52| Self-emp-not-inc|        HS-grad|            9|  Married-civ-spouse|   Exec-managerial|       Husband|              White|   Male|           0|           0|            45| United-States|  >50K|\n",
      "| 31|          Private|        Masters|           14|       Never-married|    Prof-specialty| Not-in-family|              White| Female|       14084|           0|            50| United-States|  >50K|\n",
      "| 42|          Private|      Bachelors|           13|  Married-civ-spouse|   Exec-managerial|       Husband|              White|   Male|        5178|           0|            40| United-States|  >50K|\n",
      "| 37|          Private|   Some-college|           10|  Married-civ-spouse|   Exec-managerial|       Husband|              Black|   Male|           0|           0|            80| United-States|  >50K|\n",
      "| 30|        State-gov|      Bachelors|           13|  Married-civ-spouse|    Prof-specialty|       Husband| Asian-Pac-Islander|   Male|           0|           0|            40|         India|  >50K|\n",
      "| 23|          Private|      Bachelors|           13|       Never-married|      Adm-clerical|     Own-child|              White| Female|           0|           0|            30| United-States| <=50K|\n",
      "| 32|          Private|     Assoc-acdm|           12|       Never-married|             Sales| Not-in-family|              Black|   Male|           0|           0|            50| United-States| <=50K|\n",
      "| 40|          Private|      Assoc-voc|           11|  Married-civ-spouse|      Craft-repair|       Husband| Asian-Pac-Islander|   Male|           0|           0|            40|             ?|  >50K|\n",
      "| 34|          Private|        7th-8th|            4|  Married-civ-spouse|  Transport-moving|       Husband| Amer-Indian-Eskimo|   Male|           0|           0|            45|        Mexico| <=50K|\n",
      "| 25| Self-emp-not-inc|        HS-grad|            9|       Never-married|   Farming-fishing|     Own-child|              White|   Male|           0|           0|            35| United-States| <=50K|\n",
      "| 32|          Private|        HS-grad|            9|       Never-married| Machine-op-inspct|     Unmarried|              White|   Male|           0|           0|            40| United-States| <=50K|\n",
      "| 38|          Private|           11th|            7|  Married-civ-spouse|             Sales|       Husband|              White|   Male|           0|           0|            50| United-States| <=50K|\n",
      "| 43| Self-emp-not-inc|        Masters|           14|            Divorced|   Exec-managerial|     Unmarried|              White| Female|           0|           0|            45| United-States|  >50K|\n",
      "+---+-----------------+---------------+-------------+--------------------+------------------+--------------+-------------------+-------+------------+------------+--------------+--------------+------+\n",
      "only showing top 20 rows\n",
      "\n"
     ]
    }
   ],
   "source": [
    "df.show()"
   ]
  },
  {
   "cell_type": "code",
   "execution_count": null,
   "metadata": {
    "colab": {
     "base_uri": "https://localhost:8080/"
    },
    "id": "bzc_aPxpEe7N",
    "outputId": "27fc8814-c89a-41a9-c607-c3f63e226cd3"
   },
   "outputs": [
    {
     "name": "stdout",
     "output_type": "stream",
     "text": [
      "root\n",
      " |-- age: integer (nullable = true)\n",
      " |-- workclass: string (nullable = true)\n",
      " |-- education_level: string (nullable = true)\n",
      " |-- education-num: integer (nullable = true)\n",
      " |-- marital-status: string (nullable = true)\n",
      " |-- occupation: string (nullable = true)\n",
      " |-- relationship: string (nullable = true)\n",
      " |-- race: string (nullable = true)\n",
      " |-- sex: string (nullable = true)\n",
      " |-- capital-gain: integer (nullable = true)\n",
      " |-- capital-loss: integer (nullable = true)\n",
      " |-- hours-per-week: integer (nullable = true)\n",
      " |-- native-country: string (nullable = true)\n",
      " |-- income: string (nullable = true)\n",
      "\n"
     ]
    }
   ],
   "source": [
    "# Display Dataset's Schema\n",
    "df.printSchema()"
   ]
  },
  {
   "cell_type": "code",
   "execution_count": null,
   "metadata": {
    "colab": {
     "base_uri": "https://localhost:8080/"
    },
    "id": "9-OF5XCxEiD1",
    "outputId": "be8b05b9-f406-4b10-b8ec-6a81f1f54b09"
   },
   "outputs": [
    {
     "name": "stdout",
     "output_type": "stream",
     "text": [
      "+------+-------------+\n",
      "|income|count(income)|\n",
      "+------+-------------+\n",
      "|  >50K|         7841|\n",
      "| <=50K|        24720|\n",
      "+------+-------------+\n",
      "\n"
     ]
    }
   ],
   "source": [
    "df.groupby('income').agg({'income': 'count'}).show()"
   ]
  },
  {
   "cell_type": "code",
   "execution_count": null,
   "metadata": {
    "id": "wWRygc5oEoZg"
   },
   "outputs": [],
   "source": [
    "from pyspark.ml import Pipeline\n",
    "from pyspark.ml.feature import StringIndexer, OneHotEncoder, VectorAssembler"
   ]
  },
  {
   "cell_type": "code",
   "execution_count": null,
   "metadata": {
    "id": "rDn5XHd1Evi-"
   },
   "outputs": [],
   "source": [
    "# Selecting categorical features\n",
    "categorical_columns = [\n",
    " 'workclass',\n",
    " 'education_level',\n",
    " 'marital-status',\n",
    " 'occupation',\n",
    " 'relationship',\n",
    " 'hours-per-week',\n",
    " ]"
   ]
  },
  {
   "cell_type": "code",
   "execution_count": null,
   "metadata": {
    "id": "TRBrSxm_E9iP"
   },
   "outputs": [],
   "source": [
    "# The index of string values multiple columns\n",
    "indexers = [StringIndexer(inputCol=c, outputCol=\"{0}_indexed\".format(c)) for c in categorical_columns]\n",
    "income_indexer = StringIndexer(inputCol=\"income\", outputCol=\"income_indexed\")"
   ]
  },
  {
   "cell_type": "code",
   "execution_count": null,
   "metadata": {
    "id": "0DxQEro7FmFU"
   },
   "outputs": [],
   "source": [
    "# The encode of indexed values multiple columns\n",
    "encoders = [OneHotEncoder(dropLast=False,inputCol=indexer.getOutputCol(),outputCol=\"{0}_encoded\".format(indexer.getOutputCol())) for indexer in indexers]\n",
    "income_encoder = OneHotEncoder(dropLast=False,inputCol=\"income_indexed\", outputCol=\"income_indexed_encoded\")"
   ]
  },
  {
   "cell_type": "code",
   "execution_count": null,
   "metadata": {
    "id": "vdUj3VnOGKtV"
   },
   "outputs": [],
   "source": [
    "# Vectorizing encoded values\n",
    "categorical_encoded = [encoder.getOutputCol() for encoder in encoders]\n",
    "numerical_columns = ['age', 'education-num', 'capital-gain', 'capital-loss']\n",
    "inputcols = categorical_encoded + numerical_columns\n",
    "assembler = VectorAssembler(inputCols=inputcols, outputCol=\"features\")\n",
    "income_encoded = [income_encoder.getOutputCol()]\n",
    "out_assembler = VectorAssembler(inputCols=income_encoded, outputCol=\"target\")"
   ]
  },
  {
   "cell_type": "code",
   "execution_count": null,
   "metadata": {
    "colab": {
     "base_uri": "https://localhost:8080/"
    },
    "id": "W6fpZEMfGa3s",
    "outputId": "1b0e1cb2-d174-4f5c-ba0c-10d667e568e6"
   },
   "outputs": [
    {
     "name": "stdout",
     "output_type": "stream",
     "text": [
      "+---+-----------------+---------------+-------------+--------------------+------------------+--------------+-------------------+-------+------------+------------+--------------+--------------+------+-----------------+-----------------------+----------------------+------------------+--------------------+----------------------+--------------+-------------------------+-------------------------------+------------------------------+--------------------------+----------------------------+------------------------------+----------------------+--------------------+\n",
      "|age|        workclass|education_level|education-num|      marital-status|        occupation|  relationship|               race|    sex|capital-gain|capital-loss|hours-per-week|native-country|income|workclass_indexed|education_level_indexed|marital-status_indexed|occupation_indexed|relationship_indexed|hours-per-week_indexed|income_indexed|workclass_indexed_encoded|education_level_indexed_encoded|marital-status_indexed_encoded|occupation_indexed_encoded|relationship_indexed_encoded|hours-per-week_indexed_encoded|income_indexed_encoded|            features|\n",
      "+---+-----------------+---------------+-------------+--------------------+------------------+--------------+-------------------+-------+------------+------------+--------------+--------------+------+-----------------+-----------------------+----------------------+------------------+--------------------+----------------------+--------------+-------------------------+-------------------------------+------------------------------+--------------------------+----------------------------+------------------------------+----------------------+--------------------+\n",
      "| 39|        State-gov|      Bachelors|           13|       Never-married|      Adm-clerical| Not-in-family|              White|   Male|        2174|           0|            40| United-States| <=50K|              4.0|                    2.0|                   1.0|               3.0|                 1.0|                   0.0|           0.0|            (9,[4],[1.0])|                 (16,[2],[1.0])|                 (7,[1],[1.0])|            (15,[3],[1.0])|               (6,[1],[1.0])|                (94,[0],[1.0])|         (2,[0],[1.0])|(151,[4,11,26,35,...|\n",
      "| 50| Self-emp-not-inc|      Bachelors|           13|  Married-civ-spouse|   Exec-managerial|       Husband|              White|   Male|           0|           0|            13| United-States| <=50K|              1.0|                    2.0|                   0.0|               2.0|                 0.0|                  57.0|           0.0|            (9,[1],[1.0])|                 (16,[2],[1.0])|                 (7,[0],[1.0])|            (15,[2],[1.0])|               (6,[0],[1.0])|               (94,[57],[1.0])|         (2,[0],[1.0])|(151,[1,11,25,34,...|\n",
      "| 38|          Private|        HS-grad|            9|            Divorced| Handlers-cleaners| Not-in-family|              White|   Male|           0|           0|            40| United-States| <=50K|              0.0|                    0.0|                   2.0|               9.0|                 1.0|                   0.0|           0.0|            (9,[0],[1.0])|                 (16,[0],[1.0])|                 (7,[2],[1.0])|            (15,[9],[1.0])|               (6,[1],[1.0])|                (94,[0],[1.0])|         (2,[0],[1.0])|(151,[0,9,27,41,4...|\n",
      "| 53|          Private|           11th|            7|  Married-civ-spouse| Handlers-cleaners|       Husband|              Black|   Male|           0|           0|            40| United-States| <=50K|              0.0|                    5.0|                   0.0|               9.0|                 0.0|                   0.0|           0.0|            (9,[0],[1.0])|                 (16,[5],[1.0])|                 (7,[0],[1.0])|            (15,[9],[1.0])|               (6,[0],[1.0])|                (94,[0],[1.0])|         (2,[0],[1.0])|(151,[0,14,25,41,...|\n",
      "| 28|          Private|      Bachelors|           13|  Married-civ-spouse|    Prof-specialty|          Wife|              Black| Female|           0|           0|            40|          Cuba| <=50K|              0.0|                    2.0|                   0.0|               0.0|                 4.0|                   0.0|           0.0|            (9,[0],[1.0])|                 (16,[2],[1.0])|                 (7,[0],[1.0])|            (15,[0],[1.0])|               (6,[4],[1.0])|                (94,[0],[1.0])|         (2,[0],[1.0])|(151,[0,11,25,32,...|\n",
      "| 37|          Private|        Masters|           14|  Married-civ-spouse|   Exec-managerial|          Wife|              White| Female|           0|           0|            40| United-States| <=50K|              0.0|                    3.0|                   0.0|               2.0|                 4.0|                   0.0|           0.0|            (9,[0],[1.0])|                 (16,[3],[1.0])|                 (7,[0],[1.0])|            (15,[2],[1.0])|               (6,[4],[1.0])|                (94,[0],[1.0])|         (2,[0],[1.0])|(151,[0,12,25,34,...|\n",
      "| 49|          Private|            9th|            5| Married-spouse-a...|     Other-service| Not-in-family|              Black| Female|           0|           0|            16|       Jamaica| <=50K|              0.0|                   10.0|                   5.0|               5.0|                 1.0|                  20.0|           0.0|            (9,[0],[1.0])|                (16,[10],[1.0])|                 (7,[5],[1.0])|            (15,[5],[1.0])|               (6,[1],[1.0])|               (94,[20],[1.0])|         (2,[0],[1.0])|(151,[0,19,30,37,...|\n",
      "| 52| Self-emp-not-inc|        HS-grad|            9|  Married-civ-spouse|   Exec-managerial|       Husband|              White|   Male|           0|           0|            45| United-States|  >50K|              1.0|                    0.0|                   0.0|               2.0|                 0.0|                   2.0|           1.0|            (9,[1],[1.0])|                 (16,[0],[1.0])|                 (7,[0],[1.0])|            (15,[2],[1.0])|               (6,[0],[1.0])|                (94,[2],[1.0])|         (2,[1],[1.0])|(151,[1,9,25,34,4...|\n",
      "| 31|          Private|        Masters|           14|       Never-married|    Prof-specialty| Not-in-family|              White| Female|       14084|           0|            50| United-States|  >50K|              0.0|                    3.0|                   1.0|               0.0|                 1.0|                   1.0|           1.0|            (9,[0],[1.0])|                 (16,[3],[1.0])|                 (7,[1],[1.0])|            (15,[0],[1.0])|               (6,[1],[1.0])|                (94,[1],[1.0])|         (2,[1],[1.0])|(151,[0,12,26,32,...|\n",
      "| 42|          Private|      Bachelors|           13|  Married-civ-spouse|   Exec-managerial|       Husband|              White|   Male|        5178|           0|            40| United-States|  >50K|              0.0|                    2.0|                   0.0|               2.0|                 0.0|                   0.0|           1.0|            (9,[0],[1.0])|                 (16,[2],[1.0])|                 (7,[0],[1.0])|            (15,[2],[1.0])|               (6,[0],[1.0])|                (94,[0],[1.0])|         (2,[1],[1.0])|(151,[0,11,25,34,...|\n",
      "| 37|          Private|   Some-college|           10|  Married-civ-spouse|   Exec-managerial|       Husband|              Black|   Male|           0|           0|            80| United-States|  >50K|              0.0|                    1.0|                   0.0|               2.0|                 0.0|                  26.0|           1.0|            (9,[0],[1.0])|                 (16,[1],[1.0])|                 (7,[0],[1.0])|            (15,[2],[1.0])|               (6,[0],[1.0])|               (94,[26],[1.0])|         (2,[1],[1.0])|(151,[0,10,25,34,...|\n",
      "| 30|        State-gov|      Bachelors|           13|  Married-civ-spouse|    Prof-specialty|       Husband| Asian-Pac-Islander|   Male|           0|           0|            40|         India|  >50K|              4.0|                    2.0|                   0.0|               0.0|                 0.0|                   0.0|           1.0|            (9,[4],[1.0])|                 (16,[2],[1.0])|                 (7,[0],[1.0])|            (15,[0],[1.0])|               (6,[0],[1.0])|                (94,[0],[1.0])|         (2,[1],[1.0])|(151,[4,11,25,32,...|\n",
      "| 23|          Private|      Bachelors|           13|       Never-married|      Adm-clerical|     Own-child|              White| Female|           0|           0|            30| United-States| <=50K|              0.0|                    2.0|                   1.0|               3.0|                 2.0|                   6.0|           0.0|            (9,[0],[1.0])|                 (16,[2],[1.0])|                 (7,[1],[1.0])|            (15,[3],[1.0])|               (6,[2],[1.0])|                (94,[6],[1.0])|         (2,[0],[1.0])|(151,[0,11,26,35,...|\n",
      "| 32|          Private|     Assoc-acdm|           12|       Never-married|             Sales| Not-in-family|              Black|   Male|           0|           0|            50| United-States| <=50K|              0.0|                    6.0|                   1.0|               4.0|                 1.0|                   1.0|           0.0|            (9,[0],[1.0])|                 (16,[6],[1.0])|                 (7,[1],[1.0])|            (15,[4],[1.0])|               (6,[1],[1.0])|                (94,[1],[1.0])|         (2,[0],[1.0])|(151,[0,15,26,36,...|\n",
      "| 40|          Private|      Assoc-voc|           11|  Married-civ-spouse|      Craft-repair|       Husband| Asian-Pac-Islander|   Male|           0|           0|            40|             ?|  >50K|              0.0|                    4.0|                   0.0|               1.0|                 0.0|                   0.0|           1.0|            (9,[0],[1.0])|                 (16,[4],[1.0])|                 (7,[0],[1.0])|            (15,[1],[1.0])|               (6,[0],[1.0])|                (94,[0],[1.0])|         (2,[1],[1.0])|(151,[0,13,25,33,...|\n",
      "| 34|          Private|        7th-8th|            4|  Married-civ-spouse|  Transport-moving|       Husband| Amer-Indian-Eskimo|   Male|           0|           0|            45|        Mexico| <=50K|              0.0|                    8.0|                   0.0|               8.0|                 0.0|                   2.0|           0.0|            (9,[0],[1.0])|                 (16,[8],[1.0])|                 (7,[0],[1.0])|            (15,[8],[1.0])|               (6,[0],[1.0])|                (94,[2],[1.0])|         (2,[0],[1.0])|(151,[0,17,25,40,...|\n",
      "| 25| Self-emp-not-inc|        HS-grad|            9|       Never-married|   Farming-fishing|     Own-child|              White|   Male|           0|           0|            35| United-States| <=50K|              1.0|                    0.0|                   1.0|              10.0|                 2.0|                   4.0|           0.0|            (9,[1],[1.0])|                 (16,[0],[1.0])|                 (7,[1],[1.0])|           (15,[10],[1.0])|               (6,[2],[1.0])|                (94,[4],[1.0])|         (2,[0],[1.0])|(151,[1,9,26,42,4...|\n",
      "| 32|          Private|        HS-grad|            9|       Never-married| Machine-op-inspct|     Unmarried|              White|   Male|           0|           0|            40| United-States| <=50K|              0.0|                    0.0|                   1.0|               6.0|                 3.0|                   0.0|           0.0|            (9,[0],[1.0])|                 (16,[0],[1.0])|                 (7,[1],[1.0])|            (15,[6],[1.0])|               (6,[3],[1.0])|                (94,[0],[1.0])|         (2,[0],[1.0])|(151,[0,9,26,38,5...|\n",
      "| 38|          Private|           11th|            7|  Married-civ-spouse|             Sales|       Husband|              White|   Male|           0|           0|            50| United-States| <=50K|              0.0|                    5.0|                   0.0|               4.0|                 0.0|                   1.0|           0.0|            (9,[0],[1.0])|                 (16,[5],[1.0])|                 (7,[0],[1.0])|            (15,[4],[1.0])|               (6,[0],[1.0])|                (94,[1],[1.0])|         (2,[0],[1.0])|(151,[0,14,25,36,...|\n",
      "| 43| Self-emp-not-inc|        Masters|           14|            Divorced|   Exec-managerial|     Unmarried|              White| Female|           0|           0|            45| United-States|  >50K|              1.0|                    3.0|                   2.0|               2.0|                 3.0|                   2.0|           1.0|            (9,[1],[1.0])|                 (16,[3],[1.0])|                 (7,[2],[1.0])|            (15,[2],[1.0])|               (6,[3],[1.0])|                (94,[2],[1.0])|         (2,[1],[1.0])|(151,[1,12,27,34,...|\n",
      "+---+-----------------+---------------+-------------+--------------------+------------------+--------------+-------------------+-------+------------+------------+--------------+--------------+------+-----------------+-----------------------+----------------------+------------------+--------------------+----------------------+--------------+-------------------------+-------------------------------+------------------------------+--------------------------+----------------------------+------------------------------+----------------------+--------------------+\n",
      "only showing top 20 rows\n",
      "\n"
     ]
    }
   ],
   "source": [
    "pipeline = Pipeline(stages=indexers + [income_indexer] + encoders +[income_encoder] + [assembler])\n",
    "model = pipeline.fit(df)\n",
    "# Transform data\n",
    "transformed = model.transform(df)\n",
    "transformed.show()"
   ]
  },
  {
   "cell_type": "code",
   "execution_count": null,
   "metadata": {
    "id": "WcgIY4Q_OGUc"
   },
   "outputs": [],
   "source": [
    "final_data = transformed.select('features', 'income_indexed')"
   ]
  },
  {
   "cell_type": "code",
   "execution_count": null,
   "metadata": {
    "colab": {
     "base_uri": "https://localhost:8080/"
    },
    "id": "-Y95L9tkQmfc",
    "outputId": "3b4c2c3d-0558-4b58-eb4c-e283cfcc5d25"
   },
   "outputs": [
    {
     "name": "stdout",
     "output_type": "stream",
     "text": [
      "+--------------------+--------------+\n",
      "|            features|income_indexed|\n",
      "+--------------------+--------------+\n",
      "|(151,[4,11,26,35,...|           0.0|\n",
      "|(151,[1,11,25,34,...|           0.0|\n",
      "|(151,[0,9,27,41,4...|           0.0|\n",
      "|(151,[0,14,25,41,...|           0.0|\n",
      "|(151,[0,11,25,32,...|           0.0|\n",
      "|(151,[0,12,25,34,...|           0.0|\n",
      "|(151,[0,19,30,37,...|           0.0|\n",
      "|(151,[1,9,25,34,4...|           1.0|\n",
      "|(151,[0,12,26,32,...|           1.0|\n",
      "|(151,[0,11,25,34,...|           1.0|\n",
      "|(151,[0,10,25,34,...|           1.0|\n",
      "|(151,[4,11,25,32,...|           1.0|\n",
      "|(151,[0,11,26,35,...|           0.0|\n",
      "|(151,[0,15,26,36,...|           0.0|\n",
      "|(151,[0,13,25,33,...|           1.0|\n",
      "|(151,[0,17,25,40,...|           0.0|\n",
      "|(151,[1,9,26,42,4...|           0.0|\n",
      "|(151,[0,9,26,38,5...|           0.0|\n",
      "|(151,[0,14,25,36,...|           0.0|\n",
      "|(151,[1,12,27,34,...|           1.0|\n",
      "+--------------------+--------------+\n",
      "only showing top 20 rows\n",
      "\n"
     ]
    }
   ],
   "source": [
    "final_data.show()"
   ]
  },
  {
   "cell_type": "code",
   "execution_count": null,
   "metadata": {
    "id": "7MtJt_pcQocT"
   },
   "outputs": [],
   "source": [
    "train_data, test_data = final_data.randomSplit([0.75,0.25])"
   ]
  },
  {
   "cell_type": "code",
   "execution_count": null,
   "metadata": {
    "colab": {
     "base_uri": "https://localhost:8080/"
    },
    "id": "toEBGFu6QrcZ",
    "outputId": "22906f44-2003-40a5-f1d1-57e21674f6f6"
   },
   "outputs": [
    {
     "name": "stdout",
     "output_type": "stream",
     "text": [
      "+--------------+---------------------+\n",
      "|income_indexed|count(income_indexed)|\n",
      "+--------------+---------------------+\n",
      "|           0.0|                18508|\n",
      "|           1.0|                 5933|\n",
      "+--------------+---------------------+\n",
      "\n"
     ]
    }
   ],
   "source": [
    "# Let's count how many people with income below/above 50k in training data\n",
    "train_data.groupby('income_indexed').agg({'income_indexed': 'count'}).show()"
   ]
  },
  {
   "cell_type": "code",
   "execution_count": null,
   "metadata": {
    "colab": {
     "base_uri": "https://localhost:8080/"
    },
    "id": "NdLg3I4QQtjL",
    "outputId": "b6b63f02-84f0-4704-b926-7dcb356b726e"
   },
   "outputs": [
    {
     "name": "stdout",
     "output_type": "stream",
     "text": [
      "+--------------+---------------------+\n",
      "|income_indexed|count(income_indexed)|\n",
      "+--------------+---------------------+\n",
      "|           0.0|                 6212|\n",
      "|           1.0|                 1908|\n",
      "+--------------+---------------------+\n",
      "\n"
     ]
    }
   ],
   "source": [
    "# Let's count how many people with income below/above 50k in training data\n",
    "test_data.groupby('income_indexed').agg({'income_indexed': 'count'}).show()"
   ]
  },
  {
   "cell_type": "code",
   "execution_count": null,
   "metadata": {
    "id": "EhPgX9JyQ6Cx"
   },
   "outputs": [],
   "source": [
    "#We need to look at the accuracy metric to see how well the model performs.\n",
    "def accuracy_model(model): \n",
    "    predictions = model.transform(test_data)\n",
    "    cm = predictions.select(\"income_indexed\", \"prediction\")\n",
    "    acc = cm.filter(cm.income_indexed == cm.prediction).count() / cm.count()\n",
    "    print(\"Model accuracy: %.3f%%\" % (acc * 100)) "
   ]
  },
  {
   "cell_type": "code",
   "execution_count": null,
   "metadata": {
    "id": "IGoyHInQREU0"
   },
   "outputs": [],
   "source": [
    "from pyspark.ml.classification import LogisticRegression\n",
    "lr = LogisticRegression(featuresCol=\"features\",labelCol=\"income_indexed\")\n",
    "# Fit the data to the model\n",
    "lrModel = lr.fit(train_data)"
   ]
  },
  {
   "cell_type": "code",
   "execution_count": null,
   "metadata": {
    "id": "sK1j9Q-dRRqh"
   },
   "outputs": [],
   "source": [
    "# Make predictions on test data using the transform() method.\n",
    "lr_predictions = lrModel.transform(test_data)"
   ]
  },
  {
   "cell_type": "code",
   "execution_count": null,
   "metadata": {
    "colab": {
     "base_uri": "https://localhost:8080/"
    },
    "id": "SUEvte8bRVs0",
    "outputId": "aa0e1bcf-a350-46e4-91d3-6862c59f4ce9"
   },
   "outputs": [
    {
     "name": "stdout",
     "output_type": "stream",
     "text": [
      "root\n",
      " |-- features: vector (nullable = true)\n",
      " |-- income_indexed: double (nullable = false)\n",
      " |-- rawPrediction: vector (nullable = true)\n",
      " |-- probability: vector (nullable = true)\n",
      " |-- prediction: double (nullable = false)\n",
      "\n"
     ]
    }
   ],
   "source": [
    "lr_predictions.printSchema()"
   ]
  },
  {
   "cell_type": "code",
   "execution_count": null,
   "metadata": {
    "colab": {
     "base_uri": "https://localhost:8080/"
    },
    "id": "9Acm1NJ8RX7p",
    "outputId": "62bf95b0-6408-4fd8-9ba7-9961109df431"
   },
   "outputs": [
    {
     "name": "stdout",
     "output_type": "stream",
     "text": [
      "+--------------+----------+\n",
      "|income_indexed|prediction|\n",
      "+--------------+----------+\n",
      "|           1.0|       0.0|\n",
      "|           0.0|       0.0|\n",
      "|           1.0|       0.0|\n",
      "|           0.0|       0.0|\n",
      "|           1.0|       0.0|\n",
      "|           1.0|       1.0|\n",
      "|           0.0|       0.0|\n",
      "|           0.0|       1.0|\n",
      "|           1.0|       0.0|\n",
      "|           1.0|       1.0|\n",
      "|           0.0|       0.0|\n",
      "|           0.0|       1.0|\n",
      "|           1.0|       0.0|\n",
      "|           1.0|       1.0|\n",
      "|           0.0|       0.0|\n",
      "|           0.0|       0.0|\n",
      "|           0.0|       0.0|\n",
      "|           0.0|       0.0|\n",
      "|           0.0|       0.0|\n",
      "|           0.0|       0.0|\n",
      "+--------------+----------+\n",
      "only showing top 20 rows\n",
      "\n"
     ]
    }
   ],
   "source": [
    "selected = lr_predictions.select(\"income_indexed\", \"prediction\")\n",
    "selected.show(20)"
   ]
  },
  {
   "cell_type": "code",
   "execution_count": null,
   "metadata": {
    "colab": {
     "base_uri": "https://localhost:8080/"
    },
    "id": "nNOHBrL2Rcav",
    "outputId": "6088bcff-4593-4145-b567-975801ef5e73"
   },
   "outputs": [
    {
     "name": "stdout",
     "output_type": "stream",
     "text": [
      "Model accuracy: 85.320%\n"
     ]
    }
   ],
   "source": [
    "accuracy_model(model = lrModel)"
   ]
  },
  {
   "cell_type": "code",
   "execution_count": null,
   "metadata": {
    "id": "sVWdJ4taRg2R"
   },
   "outputs": [],
   "source": [
    "from pyspark.ml.classification import DecisionTreeClassifier\n",
    "dt = DecisionTreeClassifier(featuresCol = 'features', labelCol = 'income_indexed', maxDepth = 5)\n",
    "# Fit the data to the model\n",
    "dtModel = dt.fit(train_data)"
   ]
  },
  {
   "cell_type": "code",
   "execution_count": null,
   "metadata": {
    "id": "fC-mKP4gHxB_"
   },
   "outputs": [],
   "source": [
    "# Make predictions on test data using the transform() method.\n",
    "dt_predictions = dtModel.transform(test_data)"
   ]
  },
  {
   "cell_type": "code",
   "execution_count": null,
   "metadata": {
    "colab": {
     "base_uri": "https://localhost:8080/"
    },
    "id": "YnfmjbCRH8nW",
    "outputId": "aeefb645-3847-4437-a8bf-cdeedea5a296"
   },
   "outputs": [
    {
     "name": "stdout",
     "output_type": "stream",
     "text": [
      "root\n",
      " |-- features: vector (nullable = true)\n",
      " |-- income_indexed: double (nullable = false)\n",
      " |-- rawPrediction: vector (nullable = true)\n",
      " |-- probability: vector (nullable = true)\n",
      " |-- prediction: double (nullable = false)\n",
      "\n"
     ]
    }
   ],
   "source": [
    "dt_predictions.printSchema()"
   ]
  },
  {
   "cell_type": "code",
   "execution_count": null,
   "metadata": {
    "colab": {
     "base_uri": "https://localhost:8080/"
    },
    "id": "7BB_L-lJH9Ja",
    "outputId": "6a7d34bb-7a0d-46e9-c513-c654b1cd31c8"
   },
   "outputs": [
    {
     "name": "stdout",
     "output_type": "stream",
     "text": [
      "+--------------+----------+\n",
      "|income_indexed|prediction|\n",
      "+--------------+----------+\n",
      "|           1.0|       0.0|\n",
      "|           0.0|       0.0|\n",
      "|           1.0|       0.0|\n",
      "|           0.0|       0.0|\n",
      "|           1.0|       0.0|\n",
      "|           1.0|       0.0|\n",
      "|           0.0|       0.0|\n",
      "|           0.0|       0.0|\n",
      "|           1.0|       0.0|\n",
      "|           1.0|       0.0|\n",
      "|           0.0|       0.0|\n",
      "|           0.0|       0.0|\n",
      "|           1.0|       0.0|\n",
      "|           1.0|       0.0|\n",
      "|           0.0|       0.0|\n",
      "|           0.0|       0.0|\n",
      "|           0.0|       0.0|\n",
      "|           0.0|       0.0|\n",
      "|           0.0|       0.0|\n",
      "|           0.0|       0.0|\n",
      "+--------------+----------+\n",
      "only showing top 20 rows\n",
      "\n"
     ]
    }
   ],
   "source": [
    "selected = dt_predictions.select(\"income_indexed\", \"prediction\")\n",
    "selected.show(20)"
   ]
  },
  {
   "cell_type": "code",
   "execution_count": null,
   "metadata": {
    "colab": {
     "base_uri": "https://localhost:8080/"
    },
    "id": "CwqY8V5fIDtX",
    "outputId": "fc4863a9-cb6c-47a7-f304-5c65cd682280"
   },
   "outputs": [
    {
     "name": "stdout",
     "output_type": "stream",
     "text": [
      "Model accuracy: 84.064%\n"
     ]
    }
   ],
   "source": [
    "accuracy_model(model = dtModel)"
   ]
  }
 ],
 "metadata": {
  "colab": {
   "collapsed_sections": [],
   "name": "BDA2.ipynb",
   "provenance": []
  },
  "kernelspec": {
   "display_name": "Python 3",
   "language": "python",
   "name": "python3"
  },
  "language_info": {
   "codemirror_mode": {
    "name": "ipython",
    "version": 3
   },
   "file_extension": ".py",
   "mimetype": "text/x-python",
   "name": "python",
   "nbconvert_exporter": "python",
   "pygments_lexer": "ipython3",
   "version": "3.8.5"
  }
 },
 "nbformat": 4,
 "nbformat_minor": 1
}
